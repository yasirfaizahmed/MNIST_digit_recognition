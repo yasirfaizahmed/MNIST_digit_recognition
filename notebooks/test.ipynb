{
 "cells": [
  {
   "cell_type": "code",
   "execution_count": null,
   "id": "58702132",
   "metadata": {},
   "outputs": [
    {
     "name": "stdout",
     "output_type": "stream",
     "text": [
      "tensor shape: torch.Size([4, 533, 482])\n",
      "Image shape: (482, 533)\n"
     ]
    }
   ],
   "source": [
    "from torchvision.transforms import ToTensor\n",
    "from PIL import Image\n",
    "import torch\n",
    "\n",
    "image = Image.open(\"/home/xd/Pictures/Screenshots/test.png\")\n",
    "\n",
    "image_tensor = ToTensor()(image)\n",
    "\n",
    "image_tensor = image_tensor.to(\"cuda\") if torch.cuda.is_available() else image_tensor\n",
    "\n",
    "print(f\"tensor shape: {image_tensor.shape}\")\n",
    "print(f\"Image shape: {image.size}\")\n",
    "\n",
    "\n",
    "\n",
    "# ToTensor()"
   ]
  }
 ],
 "metadata": {
  "kernelspec": {
   "display_name": "conda_torch",
   "language": "python",
   "name": "python3"
  },
  "language_info": {
   "codemirror_mode": {
    "name": "ipython",
    "version": 3
   },
   "file_extension": ".py",
   "mimetype": "text/x-python",
   "name": "python",
   "nbconvert_exporter": "python",
   "pygments_lexer": "ipython3",
   "version": "3.12.11"
  }
 },
 "nbformat": 4,
 "nbformat_minor": 5
}
